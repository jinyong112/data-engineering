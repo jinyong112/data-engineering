{
 "cells": [
  {
   "cell_type": "code",
   "execution_count": 2,
   "id": "0c5b7c2d-4181-4d82-ae8c-1a2ef87ee24c",
   "metadata": {},
   "outputs": [
    {
     "name": "stdout",
     "output_type": "stream",
     "text": [
      "255\n"
     ]
    }
   ],
   "source": [
    "# 3번 \n",
    "\n",
    "hairstyles = ['bouffant', 'pixie', 'dread locks', 'crew', 'bowl', 'bob', 'mohawk', 'flattop']\n",
    "prices = [30, 25, 40, 20, 20, 35, 50, 35]\n",
    "last_week = [2, 3, 5, 8, 4, 4, 6, 2]\n",
    "\n",
    "total_price = 0\n",
    "total_price = sum(prices)\n",
    "print(total_price)"
   ]
  },
  {
   "cell_type": "code",
   "execution_count": 4,
   "id": "3a91e08e-8542-4156-a44d-58bac3c88463",
   "metadata": {},
   "outputs": [
    {
     "name": "stdout",
     "output_type": "stream",
     "text": [
      "31.875\n"
     ]
    }
   ],
   "source": [
    "size = len(prices)\n",
    "average_price = total_price / size\n",
    "print(average_price)"
   ]
  },
  {
   "cell_type": "code",
   "execution_count": 6,
   "id": "b1c7a8b6-b583-4acb-a3f5-bc54637446f9",
   "metadata": {},
   "outputs": [
    {
     "name": "stdout",
     "output_type": "stream",
     "text": [
      "[25, 20, 35, 15, 15, 30, 45, 30]\n"
     ]
    }
   ],
   "source": [
    "new_prices = [i-5 for i in prices]\n",
    "print(new_prices)"
   ]
  },
  {
   "cell_type": "code",
   "execution_count": 8,
   "id": "b6bf652e-c050-428f-b7d3-1e036bbc9a0c",
   "metadata": {},
   "outputs": [
    {
     "name": "stdout",
     "output_type": "stream",
     "text": [
      "155.0\n"
     ]
    }
   ],
   "source": [
    "total_revenue = 0\n",
    "revenue = [prices[i]*last_week[i] for i in range(len(hairstyles))]\n",
    "total_revenue = sum(revenue)\n",
    "average_daily_revenue = total_revenue / 7\n",
    "print(average_daily_revenue)"
   ]
  },
  {
   "cell_type": "code",
   "execution_count": 14,
   "id": "177984cc-3bac-4bff-84e7-13e2e68d23a3",
   "metadata": {},
   "outputs": [
    {
     "name": "stdout",
     "output_type": "stream",
     "text": [
      "['bouffant', 'pixie', 'crew', 'bowl']\n"
     ]
    }
   ],
   "source": [
    "cuts_under_30 = [hairstyles[i] for i in range(8) if new_prices[i] < 30]\n",
    "print(cuts_under_30)"
   ]
  }
 ],
 "metadata": {
  "kernelspec": {
   "display_name": "Python 3 (ipykernel)",
   "language": "python",
   "name": "python3"
  },
  "language_info": {
   "codemirror_mode": {
    "name": "ipython",
    "version": 3
   },
   "file_extension": ".py",
   "mimetype": "text/x-python",
   "name": "python",
   "nbconvert_exporter": "python",
   "pygments_lexer": "ipython3",
   "version": "3.9.12"
  }
 },
 "nbformat": 4,
 "nbformat_minor": 5
}
